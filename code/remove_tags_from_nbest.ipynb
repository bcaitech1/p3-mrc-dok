{
 "cells": [
  {
   "cell_type": "markdown",
   "id": "1fce030a-f72e-4961-a70e-10e1894008be",
   "metadata": {},
   "source": [
    "# N-Best 결과와 품사 태깅을 이용한 predictions.json 파일 생성하기"
   ]
  },
  {
   "cell_type": "code",
   "execution_count": 2,
   "id": "67b09400-b2ef-4c17-9a2e-92616de25681",
   "metadata": {},
   "outputs": [],
   "source": [
    "from konlpy.tag import Mecab\n",
    "import json"
   ]
  },
  {
   "cell_type": "code",
   "execution_count": 3,
   "id": "37ebc199-3e92-4f19-92df-1064fffdab0a",
   "metadata": {},
   "outputs": [],
   "source": [
    "mecab = Mecab()"
   ]
  },
  {
   "cell_type": "markdown",
   "id": "883422c2-87fe-40d1-b817-dd0dd37976ae",
   "metadata": {},
   "source": [
    "## N-Best File 불러오기\n",
    "* `open` 함수 내의 경로를 수정하여 원하는 `nbest_predictions.json` 파일 불러오기"
   ]
  },
  {
   "cell_type": "code",
   "execution_count": 4,
   "id": "90ba86b8-590b-4dfd-8a22-7fca73be8b6e",
   "metadata": {},
   "outputs": [],
   "source": [
    "with open('/opt/ml/p3-mrc-dok/code/outputs/koelectra-finetuned/nbest_predictions.json') as f:\n",
    "    nbest = json.load(f)"
   ]
  },
  {
   "cell_type": "code",
   "execution_count": 14,
   "id": "37ec4d21-7b68-4230-886f-a8237c1b6741",
   "metadata": {},
   "outputs": [
    {
     "data": {
      "text/plain": [
       "{'start_logit': 0.8646875023841858,\n",
       " 'end_logit': 0.6166340708732605,\n",
       " 'text': '최소',\n",
       " 'probability': 0.33333060145378113}"
      ]
     },
     "execution_count": 14,
     "metadata": {},
     "output_type": "execute_result"
    }
   ],
   "source": [
    "nbest['mrc-1-000653'][0]"
   ]
  },
  {
   "cell_type": "code",
   "execution_count": 15,
   "id": "d50c1f9e-e210-4b5c-ae8b-6bf6ca7d8c4c",
   "metadata": {},
   "outputs": [
    {
     "data": {
      "text/plain": [
       "[('최소', 'NNG')]"
      ]
     },
     "execution_count": 15,
     "metadata": {},
     "output_type": "execute_result"
    }
   ],
   "source": [
    "mecab.pos(nbest['mrc-1-000653'][0]['text'])"
   ]
  },
  {
   "cell_type": "markdown",
   "id": "de6674ba-c13d-43e9-bf75-0d7aac64faef",
   "metadata": {},
   "source": [
    "## 품사 태깅 일부 제거하기\n",
    "* 한 개의 단어로 구성되어 있는 정답지 중 부사, 조사를 제거하고 그 다음으로 probability가 높은 답안을 뽑아 저장\n",
    "* `invalid_tags`에 제거하고 싶은 태그 추가 가능\n",
    "* 형태소 태그 참고 링크: https://sens.tistory.com/445"
   ]
  },
  {
   "cell_type": "code",
   "execution_count": 16,
   "id": "220ad635-78ba-444f-920b-952000bf5bae",
   "metadata": {},
   "outputs": [],
   "source": [
    "result_dict = {}\n",
    "invalid_tags = ['MAG', 'MAJ', # 부사\n",
    "                'JKS', 'JKC', 'JKG', 'JKO', 'JKB', 'JKV', 'JKQ', 'JX', 'JC', # 조사\n",
    "               ]\n",
    "\n",
    "\n",
    "for k in nbest:\n",
    "    for j in range(20):\n",
    "        tagged = mecab.pos(nbest[k][j]['text'])\n",
    "        if len(tagged) == 1:\n",
    "            _, tag = tagged[0]\n",
    "            if tag in invalid_tags:\n",
    "                continue\n",
    "        result_dict[k] = nbest[k][j]['text']\n",
    "        break"
   ]
  },
  {
   "cell_type": "markdown",
   "id": "8e0d455b-dbb8-445b-be0a-141e4b2e8b51",
   "metadata": {},
   "source": [
    "## 파일 저장\n",
    "* `json` 파일 형태로 저장"
   ]
  },
  {
   "cell_type": "code",
   "execution_count": 22,
   "id": "2a8303f8-969d-4d58-976f-b62dee61af78",
   "metadata": {},
   "outputs": [],
   "source": [
    "with open('pred_remove_tags.json', \"w\") as writer:\n",
    "    writer.write(json.dumps(result_dict, indent=4, ensure_ascii=False) + \"\\n\")"
   ]
  }
 ],
 "metadata": {
  "kernelspec": {
   "display_name": "Python 3",
   "language": "python",
   "name": "python3"
  },
  "language_info": {
   "codemirror_mode": {
    "name": "ipython",
    "version": 3
   },
   "file_extension": ".py",
   "mimetype": "text/x-python",
   "name": "python",
   "nbconvert_exporter": "python",
   "pygments_lexer": "ipython3",
   "version": "3.7.7"
  }
 },
 "nbformat": 4,
 "nbformat_minor": 5
}
