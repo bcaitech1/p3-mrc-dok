{
 "cells": [
  {
   "cell_type": "code",
   "execution_count": 1,
   "id": "79a06d46-ed57-4f85-ae08-9281d14b516d",
   "metadata": {},
   "outputs": [],
   "source": [
    "from konlpy.tag import Mecab\n",
    "import json"
   ]
  },
  {
   "cell_type": "code",
   "execution_count": 2,
   "id": "d3748c9f-f3ef-4633-a4e9-1adfa6a2198e",
   "metadata": {},
   "outputs": [],
   "source": [
    "mecab = Mecab()"
   ]
  },
  {
   "cell_type": "code",
   "execution_count": 3,
   "id": "a6e8b39f-600a-455a-b0e9-28b017747255",
   "metadata": {},
   "outputs": [],
   "source": [
    "with open('/opt/ml/for_ensemble/nbest_predictions_bert_kor_base.json') as f:\n",
    "    bert = json.load(f)"
   ]
  },
  {
   "cell_type": "code",
   "execution_count": 4,
   "id": "4a039803-8a29-4d5c-abef-8d640e445738",
   "metadata": {},
   "outputs": [],
   "source": [
    "with open('/opt/ml/for_ensemble/nbest_predictions_koelectra.json') as f:\n",
    "    koelec = json.load(f)"
   ]
  },
  {
   "cell_type": "code",
   "execution_count": 5,
   "id": "f58c9765-1343-4497-bbef-1b7aeca0c070",
   "metadata": {},
   "outputs": [],
   "source": [
    "result_dict_bert = {}\n",
    "busa = ['MAG', 'MAJ']\n",
    "josa=['JKS', 'JKC', 'JKG', 'JKO', 'JKB', 'JKV', 'JKQ', 'JX', 'JC']\n",
    "buho=['SY']\n",
    "ami=['EP','EF','EC','ETN','ETM'] #djal\n",
    "\n",
    "for k in bert:\n",
    "    for j in range(20):\n",
    "        tagged = mecab.pos(bert[k][j]['text'])\n",
    "        if len(tagged) == 1:\n",
    "            _, tag = tagged[0]\n",
    "            if tag not in busa:\n",
    "                result_dict_bert[k] = [bert[k][j]['text'],bert[k][j]['start_logit']+bert[k][j]['end_logit']]\n",
    "                break\n",
    "        else:\n",
    "            temp=''\n",
    "            word,tag = tagged[-1]\n",
    "           \n",
    "            if tag in josa:\n",
    "                josalen=len(word)\n",
    "                temp=bert[k][j]['text'][:len(bert[k][j]['text'])-josalen]\n",
    "                result_dict_bert[k] = [temp,bert[k][j]['start_logit']+bert[k][j]['end_logit']]\n",
    "            else:\n",
    "                result_dict_bert[k] = [bert[k][j]['text'],bert[k][j]['start_logit']+bert[k][j]['end_logit']]\n",
    "            break"
   ]
  },
  {
   "cell_type": "code",
   "execution_count": 6,
   "id": "39e4c1a0-62d0-4157-8095-2853e3e71650",
   "metadata": {},
   "outputs": [],
   "source": [
    "result_dict_koelec = {}\n",
    "\n",
    "for k in koelec:\n",
    "    for j in range(20):\n",
    "        jump=koelec[k][j]['text'].split(' ')\n",
    "        maxjump=len(jump)\n",
    "        before=-1\n",
    "        now=0\n",
    "        \n",
    "        tagged = mecab.pos(koelec[k][j]['text'])\n",
    "        if len(tagged) == 1:\n",
    "            _, tag = tagged[0]\n",
    "            if tag not in busa:\n",
    "                result_dict_koelec[k] = [koelec[k][j]['text'],koelec[k][j]['start_logit']+koelec[k][j]['end_logit']]\n",
    "                break\n",
    "        else:\n",
    "            temp=''\n",
    "            word,tag = tagged[-1]\n",
    "           \n",
    "            if tag in josa:\n",
    "                josalen=len(word)\n",
    "                temp=koelec[k][j]['text'][:len(koelec[k][j]['text'])-josalen]\n",
    "                result_dict_koelec[k] = [temp,koelec[k][j]['start_logit']+koelec[k][j]['end_logit']]\n",
    "            else:\n",
    "                result_dict_koelec[k] = [koelec[k][j]['text'],koelec[k][j]['start_logit']+koelec[k][j]['end_logit']]\n",
    "            break"
   ]
  },
  {
   "cell_type": "code",
   "execution_count": 7,
   "id": "1c6c648f-8a35-4f14-af63-49a0b9922b73",
   "metadata": {},
   "outputs": [],
   "source": [
    "with open('pred_remove_tags_koelec.json', \"w\") as writer:\n",
    "    writer.write(json.dumps(result_dict_koelec, indent=4, ensure_ascii=False) + \"\\n\")"
   ]
  },
  {
   "cell_type": "code",
   "execution_count": 8,
   "id": "98a7513b-4af2-44f8-8513-0bd5fc85e983",
   "metadata": {},
   "outputs": [],
   "source": [
    "with open('pred_remove_tags_bert.json', \"w\") as writer:\n",
    "    writer.write(json.dumps(result_dict_bert, indent=4, ensure_ascii=False) + \"\\n\")"
   ]
  },
  {
   "cell_type": "code",
   "execution_count": 9,
   "id": "27fe9e66-0f03-4e19-8dd9-0528cfa99cf0",
   "metadata": {},
   "outputs": [],
   "source": [
    "final={}"
   ]
  },
  {
   "cell_type": "code",
   "execution_count": 10,
   "id": "09d2b2af-dde4-44d9-a2b8-eeb1edac5f2c",
   "metadata": {},
   "outputs": [],
   "source": [
    "for k in koelec:\n",
    "    if result_dict_koelec[k][1]>result_dict_bert[k][1]:\n",
    "        final[k]=result_dict_koelec[k][0]\n",
    "    else:\n",
    "        final[k]=result_dict_bert[k][0]"
   ]
  },
  {
   "cell_type": "code",
   "execution_count": 11,
   "id": "9c5814d5-9e24-4f1a-986c-39b1210cb805",
   "metadata": {},
   "outputs": [],
   "source": [
    "with open('final.json', \"w\") as writer:\n",
    "    writer.write(json.dumps(final, indent=4, ensure_ascii=False) + \"\\n\")"
   ]
  },
  {
   "cell_type": "code",
   "execution_count": null,
   "id": "7c2195c0-7253-4263-800a-ac9af0a62e9b",
   "metadata": {},
   "outputs": [],
   "source": []
  },
  {
   "cell_type": "code",
   "execution_count": null,
   "id": "cfbad8e3-ce0e-47b3-8a06-a1bef9809c0c",
   "metadata": {},
   "outputs": [],
   "source": []
  }
 ],
 "metadata": {
  "kernelspec": {
   "display_name": "Python 3",
   "language": "python",
   "name": "python3"
  },
  "language_info": {
   "codemirror_mode": {
    "name": "ipython",
    "version": 3
   },
   "file_extension": ".py",
   "mimetype": "text/x-python",
   "name": "python",
   "nbconvert_exporter": "python",
   "pygments_lexer": "ipython3",
   "version": "3.7.7"
  }
 },
 "nbformat": 4,
 "nbformat_minor": 5
}
